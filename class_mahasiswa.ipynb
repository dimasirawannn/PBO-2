{
  "nbformat": 4,
  "nbformat_minor": 0,
  "metadata": {
    "colab": {
      "provenance": [],
      "authorship_tag": "ABX9TyMH+9aHF5ZVGLMTVU8qhhDb",
      "include_colab_link": true
    },
    "kernelspec": {
      "name": "python3",
      "display_name": "Python 3"
    },
    "language_info": {
      "name": "python"
    }
  },
  "cells": [
    {
      "cell_type": "markdown",
      "metadata": {
        "id": "view-in-github",
        "colab_type": "text"
      },
      "source": [
        "<a href=\"https://colab.research.google.com/github/dimasirawannn/PBO-2/blob/main/class_mahasiswa.ipynb\" target=\"_parent\"><img src=\"https://colab.research.google.com/assets/colab-badge.svg\" alt=\"Open In Colab\"/></a>"
      ]
    },
    {
      "cell_type": "code",
      "source": [
        "class Mahasiswa:\n",
        "    def __init__(self):\n",
        "        self.nama = \"\"\n",
        "        self.nim = \"\"\n",
        "        self.prodi = \"\"\n",
        "\n",
        "def main():\n",
        "    mhs = Mahasiswa()\n",
        "    mhs.nama = \"Dimas Irawan\"\n",
        "    mhs.nim = \"230705149\"\n",
        "    mhs.prodi = \"Teknologi Informasi\"\n",
        "\n",
        "    print('Nama:', mhs.nama)\n",
        "    print('NIM:', mhs.nim)\n",
        "    print('Prodi:', mhs.prodi)\n",
        "\n",
        "if __name__ == '__main__':\n",
        "    main()"
      ],
      "metadata": {
        "colab": {
          "base_uri": "https://localhost:8080/"
        },
        "id": "QekFSVdCuqTb",
        "outputId": "0b120146-b2b7-4296-eb54-461de73627c7"
      },
      "execution_count": null,
      "outputs": [
        {
          "output_type": "stream",
          "name": "stdout",
          "text": [
            "Nama: Dimas Irawan\n",
            "NIM: 230705149\n",
            "Prodi: Teknologi Informasi\n"
          ]
        }
      ]
    }
  ]
}