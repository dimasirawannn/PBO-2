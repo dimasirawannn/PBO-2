{
  "nbformat": 4,
  "nbformat_minor": 0,
  "metadata": {
    "colab": {
      "provenance": [],
      "authorship_tag": "ABX9TyOhLTkBvByoQs5sny/s04vj",
      "include_colab_link": true
    },
    "kernelspec": {
      "name": "python3",
      "display_name": "Python 3"
    },
    "language_info": {
      "name": "python"
    }
  },
  "cells": [
    {
      "cell_type": "markdown",
      "metadata": {
        "id": "view-in-github",
        "colab_type": "text"
      },
      "source": [
        "<a href=\"https://colab.research.google.com/github/dimasirawannn/PBO-2/blob/main/class_buku.ipynb\" target=\"_parent\"><img src=\"https://colab.research.google.com/assets/colab-badge.svg\" alt=\"Open In Colab\"/></a>"
      ]
    },
    {
      "cell_type": "code",
      "execution_count": null,
      "metadata": {
        "colab": {
          "base_uri": "https://localhost:8080/"
        },
        "id": "LxC3-zVWyK5r",
        "outputId": "374d311a-5ae1-4d3f-ecbf-9303f028fac5"
      },
      "outputs": [
        {
          "output_type": "stream",
          "name": "stdout",
          "text": [
            "Judul Buku: Pemrograman Python\n",
            "Pengarang: Rahmat Nur Amna\n",
            "Tahun Terbit: 2025\n"
          ]
        }
      ],
      "source": [
        "class Buku:\n",
        "    def __init__(self):\n",
        "        self.judul = \"\"\n",
        "        self.pengarang = \"\"\n",
        "        self.tahun_terbit = 0\n",
        "\n",
        "def main():\n",
        "    buku = Buku()\n",
        "    buku.judul = \"Pemrograman Python\"\n",
        "    buku.pengarang = \"Rahmat Nur Amna\"\n",
        "    buku.tahun_terbit = 2025\n",
        "\n",
        "    print('Judul Buku:', buku.judul)\n",
        "    print('Pengarang:', buku.pengarang)\n",
        "    print('Tahun Terbit:', buku.tahun_terbit)\n",
        "\n",
        "if __name__ == '__main__':\n",
        "    main()"
      ]
    }
  ]
}