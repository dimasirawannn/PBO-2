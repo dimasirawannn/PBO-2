{
  "nbformat": 4,
  "nbformat_minor": 0,
  "metadata": {
    "colab": {
      "provenance": [],
      "authorship_tag": "ABX9TyOdKYLa9lpzhUWyHntQhZIl",
      "include_colab_link": true
    },
    "kernelspec": {
      "name": "python3",
      "display_name": "Python 3"
    },
    "language_info": {
      "name": "python"
    }
  },
  "cells": [
    {
      "cell_type": "markdown",
      "metadata": {
        "id": "view-in-github",
        "colab_type": "text"
      },
      "source": [
        "<a href=\"https://colab.research.google.com/github/dimasirawannn/PBO-2/blob/main/class_mobil.ipynb\" target=\"_parent\"><img src=\"https://colab.research.google.com/assets/colab-badge.svg\" alt=\"Open In Colab\"/></a>"
      ]
    },
    {
      "cell_type": "code",
      "execution_count": null,
      "metadata": {
        "colab": {
          "base_uri": "https://localhost:8080/"
        },
        "id": "MmcwRX8C0wis",
        "outputId": "5055f13c-8602-4c74-b8f4-bf98f4628e5e"
      },
      "outputs": [
        {
          "output_type": "stream",
          "name": "stdout",
          "text": [
            "Merk Mobil: Mitsubishi\n",
            "Model Mobil: Xpander\n",
            "Tahun Mobil: 2020\n"
          ]
        }
      ],
      "source": [
        "class Mobil:\n",
        "    def __init__(self):\n",
        "        self.merk = \"\"\n",
        "        self.model = \"\"\n",
        "        self.tahun = 0\n",
        "\n",
        "def main():\n",
        "    mobil = Mobil()\n",
        "    mobil.merk = \"Mitsubishi\"\n",
        "    mobil.model = \"Xpander\"\n",
        "    mobil.tahun = 2020\n",
        "\n",
        "    print('Merk Mobil:', mobil.merk)\n",
        "    print('Model Mobil:', mobil.model)\n",
        "    print('Tahun Mobil:', mobil.tahun)\n",
        "\n",
        "if __name__ == '__main__':\n",
        "    main()"
      ]
    }
  ]
}