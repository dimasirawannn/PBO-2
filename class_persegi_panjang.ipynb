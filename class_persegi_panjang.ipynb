{
  "nbformat": 4,
  "nbformat_minor": 0,
  "metadata": {
    "colab": {
      "provenance": [],
      "authorship_tag": "ABX9TyPpQ7sRuYdApyeZkVGfAfwz",
      "include_colab_link": true
    },
    "kernelspec": {
      "name": "python3",
      "display_name": "Python 3"
    },
    "language_info": {
      "name": "python"
    }
  },
  "cells": [
    {
      "cell_type": "markdown",
      "metadata": {
        "id": "view-in-github",
        "colab_type": "text"
      },
      "source": [
        "<a href=\"https://colab.research.google.com/github/dimasirawannn/PBO-2/blob/main/class_persegi_panjang.ipynb\" target=\"_parent\"><img src=\"https://colab.research.google.com/assets/colab-badge.svg\" alt=\"Open In Colab\"/></a>"
      ]
    },
    {
      "cell_type": "code",
      "execution_count": null,
      "metadata": {
        "colab": {
          "base_uri": "https://localhost:8080/"
        },
        "id": "kb42t7OLvzBY",
        "outputId": "3b6002be-5907-4e55-bb7e-82671b4a7b43"
      },
      "outputs": [
        {
          "output_type": "stream",
          "name": "stdout",
          "text": [
            "Luas persegi panjang = 24.00\n"
          ]
        }
      ],
      "source": [
        "class PersegiPanjang:\n",
        "    def __init__(self):\n",
        "        self.panjang = 0.0\n",
        "        self.lebar = 0.0\n",
        "\n",
        "def main():\n",
        "    obj = PersegiPanjang()\n",
        "    obj.panjang = 6\n",
        "    obj.lebar = 4\n",
        "\n",
        "    luas = obj.panjang * obj.lebar\n",
        "    print('Luas persegi panjang = %.2f' % luas)\n",
        "\n",
        "if __name__ == '__main__':\n",
        "    main()"
      ]
    }
  ]
}