{
  "nbformat": 4,
  "nbformat_minor": 0,
  "metadata": {
    "colab": {
      "provenance": [],
      "authorship_tag": "ABX9TyMo/WxIxNBPNUTF+eckzCjx",
      "include_colab_link": true
    },
    "kernelspec": {
      "name": "python3",
      "display_name": "Python 3"
    },
    "language_info": {
      "name": "python"
    }
  },
  "cells": [
    {
      "cell_type": "markdown",
      "metadata": {
        "id": "view-in-github",
        "colab_type": "text"
      },
      "source": [
        "<a href=\"https://colab.research.google.com/github/dimasirawannn/PBO-2/blob/main/class_lingkaran.ipynb\" target=\"_parent\"><img src=\"https://colab.research.google.com/assets/colab-badge.svg\" alt=\"Open In Colab\"/></a>"
      ]
    },
    {
      "cell_type": "code",
      "execution_count": null,
      "metadata": {
        "colab": {
          "base_uri": "https://localhost:8080/"
        },
        "id": "ASu9RjpQoNOA",
        "outputId": "2282a1c9-9bf4-4d4c-b9d4-735ceccc6046"
      },
      "outputs": [
        {
          "output_type": "stream",
          "name": "stdout",
          "text": [
            "Luas lingkaran = 153.94\n",
            "Keliling lingkaran = 43.98\n"
          ]
        }
      ],
      "source": [
        "class Lingkaran:\n",
        "    def __init__(self):\n",
        "        self.jari_jari = 0.0\n",
        "\n",
        "def main():\n",
        "    obj = Lingkaran()\n",
        "    obj.jari_jari = 7\n",
        "    luas = 3.14159 * obj.jari_jari ** 2\n",
        "    keliling = 2 * 3.14159 * obj.jari_jari\n",
        "\n",
        "    print('Luas lingkaran = %.2f' % luas)\n",
        "    print('Keliling lingkaran = %.2f' % keliling)\n",
        "\n",
        "if __name__ == '__main__':\n",
        "    main()"
      ]
    }
  ]
}